{
 "cells": [
  {
   "cell_type": "markdown",
   "source": [
    "#1\n",
    "\n",
    "# 입력과 관련된 함수\n",
    "input(), read(), readline(), readlines()\n",
    "\n",
    "# 출력과 관련된 함수\n",
    "print(), write(), writeline()"
   ],
   "metadata": {
    "collapsed": false
   }
  },
  {
   "cell_type": "markdown",
   "source": [
    "#2\n",
    "\n",
    "A 파일 열기 -> C 파일 읽기 -> B 파일 쓰기 -> D 파일 닫기"
   ],
   "metadata": {
    "collapsed": false
   }
  },
  {
   "cell_type": "markdown",
   "source": [
    "#3\n",
    "열기모드 거리가 먼 것\n",
    "\n",
    "3, 6\n",
    "\n",
    "3 : a는 쓰기 모드이며, 기존 파일을 삭제하지는 않음\n",
    "6 : tb는 python3에 존재하지 않는다"
   ],
   "metadata": {
    "collapsed": false
   }
  },
  {
   "cell_type": "code",
   "execution_count": null,
   "outputs": [],
   "source": [
    "#4\n",
    "\n",
    "inFp = open(\"C:/Temp/data1.txt\",\"r\")\n",
    "\n",
    "inStr = inFp.readline()\n",
    "print(inStr, end=\"\")\n",
    "\n",
    "inFp.close()"
   ],
   "metadata": {
    "collapsed": false
   }
  },
  {
   "cell_type": "code",
   "execution_count": null,
   "outputs": [],
   "source": [
    "#6\n",
    "\n",
    "#파일 복사\n",
    "inFp = open(\"C:/Windows/win.ini\", \"r\")\n",
    "outFp = open(\"C:/Temp/data3.txt\", \"w\")\n",
    "\n",
    "inList = inFp.readlines()\n",
    "for inStr in inList:\n",
    "    outFp.writelines(inStr)\n",
    "\n",
    "inFp.close()\n",
    "outFp.close()"
   ],
   "metadata": {
    "collapsed": false
   }
  }
 ],
 "metadata": {
  "kernelspec": {
   "display_name": "Python 3",
   "language": "python",
   "name": "python3"
  },
  "language_info": {
   "codemirror_mode": {
    "name": "ipython",
    "version": 2
   },
   "file_extension": ".py",
   "mimetype": "text/x-python",
   "name": "python",
   "nbconvert_exporter": "python",
   "pygments_lexer": "ipython2",
   "version": "2.7.6"
  }
 },
 "nbformat": 4,
 "nbformat_minor": 0
}
