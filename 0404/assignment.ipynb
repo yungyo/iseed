{
 "cells": [
  {
   "cell_type": "code",
   "execution_count": 1,
   "metadata": {
    "collapsed": true
   },
   "outputs": [],
   "source": [
    "from tkinter import *\n",
    "window = Tk()\n",
    "\n",
    "def rdo_change():\n",
    "    if var.get() == 1 :\n",
    "        label1.configure(text = \"벤츠\")\n",
    "    else :\n",
    "        label1.configure(text = \"포르쉐\")\n",
    "\n",
    "var = IntVar()\n",
    "rdo1 = Radiobutton(window, text = \"벤츠\", variable=var,value=1, command=rdo_change)\n",
    "rdo2 = Radiobutton(window, text = \"포르쉐\", variable=var,value=2, command=rdo_change)\n",
    "\n",
    "label1 = Label(window, text=\"선택한 차량\", fg=\"red\")\n",
    "\n",
    "rdo1.pack()\n",
    "rdo2.pack()\n",
    "label1.pack()\n",
    "\n",
    "window.mainloop()"
   ]
  },
  {
   "cell_type": "code",
   "execution_count": 4,
   "outputs": [],
   "source": [
    "from tkinter import *\n",
    "window = Tk()\n",
    "\n",
    "button1= Button(window, text=\"버튼1\")\n",
    "button2= Button(window, text=\"버튼2\")\n",
    "button3= Button(window, text=\"버튼3\")\n",
    "\n",
    "button1.pack(side=LEFT)\n",
    "button2.pack(side=LEFT)\n",
    "button3.pack(side=LEFT)\n",
    "\n",
    "window.mainloop()"
   ],
   "metadata": {
    "collapsed": false
   }
  },
  {
   "cell_type": "code",
   "execution_count": 5,
   "outputs": [],
   "source": [
    "from tkinter import *\n",
    "window = Tk()\n",
    "\n",
    "button1= Button(window, text=\"버튼1\")\n",
    "button2= Button(window, text=\"버튼2\")\n",
    "button3= Button(window, text=\"버튼3\")\n",
    "\n",
    "button1.pack(side=RIGHT)\n",
    "button2.pack(side=RIGHT)\n",
    "button3.pack(side=RIGHT)\n",
    "\n",
    "window.mainloop()"
   ],
   "metadata": {
    "collapsed": false
   }
  },
  {
   "cell_type": "code",
   "execution_count": 6,
   "outputs": [],
   "source": [
    "from tkinter import *\n",
    "window = Tk()\n",
    "\n",
    "button1= Button(window, text=\"버튼1\")\n",
    "button2= Button(window, text=\"버튼2\")\n",
    "button3= Button(window, text=\"버튼3\")\n",
    "\n",
    "button1.pack(side=TOP)\n",
    "button2.pack(side=TOP)\n",
    "button3.pack(side=TOP)\n",
    "\n",
    "window.mainloop()"
   ],
   "metadata": {
    "collapsed": false
   }
  },
  {
   "cell_type": "code",
   "execution_count": 7,
   "outputs": [],
   "source": [
    "from tkinter import *\n",
    "window = Tk()\n",
    "\n",
    "button1= Button(window, text=\"버튼1\")\n",
    "button2= Button(window, text=\"버튼2\")\n",
    "button3= Button(window, text=\"버튼3\")\n",
    "\n",
    "button1.pack(side=BOTTOM)\n",
    "button2.pack(side=BOTTOM)\n",
    "button3.pack(side=BOTTOM)\n",
    "\n",
    "window.mainloop()"
   ],
   "metadata": {
    "collapsed": false
   }
  },
  {
   "cell_type": "code",
   "execution_count": 11,
   "outputs": [],
   "source": [
    "from tkinter import *\n",
    "from time import *\n",
    "\n",
    "fnameList = [\"jeju1.gif\",\"jeju2.gif\",\"jeju3.gif\",\"jeju4.gif\",\"jeju5.gif\",\"jeju6.gif\",\"jeju7.gif\",\"jeju8.gif\",\"jeju0.gif\"]\n",
    "\n",
    "num = 0\n",
    "\n",
    "def clickNext():\n",
    "    global num\n",
    "    num = (num + 1) % len(fnameList)\n",
    "    pLabel.configure(text=fnameList[num])\n",
    "\n",
    "def clickPrev():\n",
    "    global num\n",
    "    num = (num - 1) % len(fnameList)\n",
    "    pLabel.configure(text=fnameList[num])\n",
    "\n",
    "window = Tk()\n",
    "\n",
    "pLabel = Label(window, text=fnameList[num], fg=\"blue\")\n",
    "pLabel.pack(expand=1, anchor=CENTER)\n",
    "\n",
    "btnPrev = Button(window, text=\"<이전>\", command=clickPrev)\n",
    "btnPrev.pack(side=LEFT)\n",
    "\n",
    "btnNext = Button(window, text=\"<다음>\", command=clickNext)\n",
    "btnNext.pack(side=RIGHT)\n",
    "\n",
    "window.mainloop()"
   ],
   "metadata": {
    "collapsed": false
   }
  },
  {
   "cell_type": "code",
   "execution_count": null,
   "outputs": [],
   "source": [],
   "metadata": {
    "collapsed": false
   }
  }
 ],
 "metadata": {
  "kernelspec": {
   "display_name": "Python 3",
   "language": "python",
   "name": "python3"
  },
  "language_info": {
   "codemirror_mode": {
    "name": "ipython",
    "version": 2
   },
   "file_extension": ".py",
   "mimetype": "text/x-python",
   "name": "python",
   "nbconvert_exporter": "python",
   "pygments_lexer": "ipython2",
   "version": "2.7.6"
  }
 },
 "nbformat": 4,
 "nbformat_minor": 0
}
