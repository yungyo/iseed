{
 "cells": [
  {
   "cell_type": "code",
   "execution_count": 22,
   "metadata": {
    "collapsed": true
   },
   "outputs": [],
   "source": [
    "import random\n",
    "from tkinter import *\n",
    "\n",
    "btnList = [None] * 9\n",
    "fnameList = [\"honeycomb.gif\", \"icecream.gif\", \"jellybean.gif\", \"kitkat.gif\", \"lollipop.gif\", \"marshmallow.gif\", \"nougat.gif\", \"oreo.gif\", \"pie.gif\"]\n",
    "photoList = [None] * 9\n",
    "i, k = 0, 0\n",
    "xPos, yPos = 0, 0\n",
    "num = 0\n",
    "\n",
    "window = Tk()\n",
    "# window.geometry(\"210x210\")\n",
    "window.geometry(\"600x600\")\n",
    "\n",
    "random.shuffle(fnameList)\n",
    "\n",
    "for i in range(0, 9):\n",
    "    photoList[i] = PhotoImage(file = \"C:/Users/User/OneDrive/바탕 화면/졸업해야지/2024대학원수업/24년1학기/iseed/5주차/gif/\" + fnameList[i])\n",
    "    btnList[i] = Button(window, image=photoList[i])\n",
    "\n",
    "for i in range(0,3) :\n",
    "    for k in range(0, 3):\n",
    "        btnList[num].place(x=xPos, y=yPos)\n",
    "        num+=1\n",
    "        xPos += 200\n",
    "    xPos = 0\n",
    "    yPos += 200\n",
    "\n",
    "window.mainloop()"
   ]
  },
  {
   "cell_type": "code",
   "execution_count": 19,
   "outputs": [],
   "source": [],
   "metadata": {
    "collapsed": false
   }
  },
  {
   "cell_type": "code",
   "execution_count": 25,
   "outputs": [],
   "source": [
    "from tkinter import *\n",
    "from tkinter.filedialog import *\n",
    "\n",
    "def func_open() :\n",
    "    filename = askopenfilename(parent=window, filetypes=((\"GIF 파일\", \"*.gif\"),\n",
    "                                                         (\"모든 파일\", \"*.*\")))\n",
    "    photo = PhotoImage(file = filename)\n",
    "\n",
    "    width = photo.width()\n",
    "    height = photo.height()\n",
    "\n",
    "    #픽셀마다 흑백으로 만들기\n",
    "    for i in range(height):\n",
    "        for j in range(width):\n",
    "            r, g, b = photo.get(j, i)\n",
    "            grey = int((r+g+b)/3)\n",
    "            photo.put(\"#%02x%02x%02x\" % (grey, grey, grey), (j, i))\n",
    "\n",
    "    pLabel.configure(image = photo)\n",
    "    pLabel.image = photo\n",
    "\n",
    "def func_exit() :\n",
    "    window.quit()\n",
    "    window.destroy()\n",
    "\n",
    "window = Tk()\n",
    "window.geometry(\"400x400\")\n",
    "window.title(\"이미지 흑백으로 바꾸기\")\n",
    "\n",
    "photo = PhotoImage()\n",
    "pLabel = Label(window, image=photo)\n",
    "pLabel.pack(expand=1, anchor=CENTER)\n",
    "\n",
    "mainMenu = Menu(window)\n",
    "window.config(menu=mainMenu)\n",
    "fileMenu = Menu(mainMenu)\n",
    "mainMenu.add_cascade(label=\"파일\", menu=fileMenu)\n",
    "fileMenu.add_command(label=\"파일 열기\", command=func_open)\n",
    "fileMenu.add_separator()\n",
    "fileMenu.add_command(label=\"프로그램 종료\", command=func_exit)\n",
    "\n",
    "window.mainloop()"
   ],
   "metadata": {
    "collapsed": false
   }
  },
  {
   "cell_type": "code",
   "execution_count": null,
   "outputs": [],
   "source": [],
   "metadata": {
    "collapsed": false
   }
  }
 ],
 "metadata": {
  "kernelspec": {
   "display_name": "Python 3",
   "language": "python",
   "name": "python3"
  },
  "language_info": {
   "codemirror_mode": {
    "name": "ipython",
    "version": 2
   },
   "file_extension": ".py",
   "mimetype": "text/x-python",
   "name": "python",
   "nbconvert_exporter": "python",
   "pygments_lexer": "ipython2",
   "version": "2.7.6"
  }
 },
 "nbformat": 4,
 "nbformat_minor": 0
}
