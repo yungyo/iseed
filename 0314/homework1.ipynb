{
 "cells": [
  {
   "cell_type": "code",
   "execution_count": 2,
   "metadata": {
    "collapsed": true
   },
   "outputs": [
    {
     "name": "stdout",
     "output_type": "stream",
     "text": [
      "100\n",
      "100\n",
      "100\n",
      "50+50\n"
     ]
    }
   ],
   "source": [
    "# 1 ; 4번\n",
    "print(\"100\")\n",
    "print(100)\n",
    "print(50+50)\n",
    "print(\"50+50\")"
   ]
  },
  {
   "cell_type": "code",
   "execution_count": 3,
   "outputs": [
    {
     "name": "stdout",
     "output_type": "stream",
     "text": [
      "5 / 10 = 0\n"
     ]
    }
   ],
   "source": [
    "# 2 ; 3번\n",
    "print('%d / %d = %d' % (5,10,5/10))"
   ],
   "metadata": {
    "collapsed": false
   }
  },
  {
   "cell_type": "code",
   "execution_count": 5,
   "outputs": [
    {
     "name": "stdout",
     "output_type": "stream",
     "text": [
      "0876\n",
      "CookBook\n",
      "123.5\n"
     ]
    }
   ],
   "source": [
    "# 3 ;\n",
    "print(\"%04d\" % 876)\n",
    "print(\"%5s\" % \"CookBook\")\n",
    "print(\"%1.1f\" % 123.45)"
   ],
   "metadata": {
    "collapsed": false
   }
  },
  {
   "cell_type": "code",
   "execution_count": 6,
   "outputs": [
    {
     "name": "stdout",
     "output_type": "stream",
     "text": [
      "333 111 222\n"
     ]
    }
   ],
   "source": [
    "# 4\n",
    "print(\"{2:d} {0:d} {1:d}\".format(111,222,333))"
   ],
   "metadata": {
    "collapsed": false
   }
  },
  {
   "cell_type": "code",
   "execution_count": 8,
   "outputs": [
    {
     "name": "stdout",
     "output_type": "stream",
     "text": [
      "11\n"
     ]
    }
   ],
   "source": [
    "# 11\n",
    "result = int(\"1011\",2)\n",
    "print(result)"
   ],
   "metadata": {
    "collapsed": false
   }
  },
  {
   "cell_type": "code",
   "execution_count": 18,
   "outputs": [
    {
     "ename": "ValueError",
     "evalue": "invalid literal for int() with base 16: 'AAFG'",
     "output_type": "error",
     "traceback": [
      "\u001B[1;31m---------------------------------------------------------------------------\u001B[0m",
      "\u001B[1;31mValueError\u001B[0m                                Traceback (most recent call last)",
      "Cell \u001B[1;32mIn[18], line 4\u001B[0m\n\u001B[0;32m      1\u001B[0m \u001B[38;5;66;03m# 13\u001B[39;00m\n\u001B[0;32m      2\u001B[0m \u001B[38;5;66;03m# int('1002',2) # 올바른 2진수 형식이 아님\u001B[39;00m\n\u001B[0;32m      3\u001B[0m \u001B[38;5;66;03m# int('1008',8) # 8진수로 인식될 수 없는 값 사용 (7까지 사용 가능, 8사용)\u001B[39;00m\n\u001B[1;32m----> 4\u001B[0m \u001B[38;5;28;43mint\u001B[39;49m\u001B[43m(\u001B[49m\u001B[38;5;124;43m'\u001B[39;49m\u001B[38;5;124;43mAAFG\u001B[39;49m\u001B[38;5;124;43m'\u001B[39;49m\u001B[43m,\u001B[49m\u001B[38;5;241;43m16\u001B[39;49m\u001B[43m)\u001B[49m\n",
      "\u001B[1;31mValueError\u001B[0m: invalid literal for int() with base 16: 'AAFG'"
     ]
    }
   ],
   "source": [
    "# 13\n",
    "int('1002',2) # 올바른 2진수 형식이 아님\n",
    "int('1008',8) # 8진수로 인식될 수 없는 값 사용 (7까지 사용 가능, 8사용)\n",
    "int('AAFG',16) # 16진수로 인식될 수 없는 값 사용 (A, B, C, D, E, F 사용 가능)"
   ],
   "metadata": {
    "collapsed": false
   }
  },
  {
   "cell_type": "code",
   "execution_count": 21,
   "outputs": [
    {
     "name": "stdout",
     "output_type": "stream",
     "text": [
      "10진수 ==>  12345678\n",
      "16진수 ==>  0xbc614e\n",
      " 8진수 ==>  0o57060516\n",
      " 2진수 ==>  0b101111000110000101001110\n"
     ]
    }
   ],
   "source": [
    "# 15\n",
    "num = 12345678\n",
    "\n",
    "hex_num = hex(num)\n",
    "oct_num = oct(num)\n",
    "bin_num = bin(num)\n",
    "\n",
    "print(\"10진수 ==> \", num)\n",
    "print(\"16진수 ==> \", hex_num)\n",
    "print(\" 8진수 ==> \", oct_num)\n",
    "print(\" 2진수 ==> \", bin_num)"
   ],
   "metadata": {
    "collapsed": false
   }
  },
  {
   "cell_type": "code",
   "execution_count": null,
   "outputs": [],
   "source": [],
   "metadata": {
    "collapsed": false
   }
  }
 ],
 "metadata": {
  "kernelspec": {
   "display_name": "Python 3",
   "language": "python",
   "name": "python3"
  },
  "language_info": {
   "codemirror_mode": {
    "name": "ipython",
    "version": 2
   },
   "file_extension": ".py",
   "mimetype": "text/x-python",
   "name": "python",
   "nbconvert_exporter": "python",
   "pygments_lexer": "ipython2",
   "version": "2.7.6"
  }
 },
 "nbformat": 4,
 "nbformat_minor": 0
}
