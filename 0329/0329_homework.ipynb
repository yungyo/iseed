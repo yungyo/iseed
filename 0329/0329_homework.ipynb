{
 "cells": [
  {
   "cell_type": "code",
   "execution_count": null,
   "metadata": {
    "collapsed": true
   },
   "outputs": [],
   "source": [
    "ss = 'Python'\n",
    "\n",
    "for i in range(0,len(ss)) :\n",
    "    print( ss[i] + '$', end='')"
   ]
  },
  {
   "cell_type": "code",
   "execution_count": null,
   "outputs": [],
   "source": [
    "import re\n",
    "\n",
    "string = '파이썬 ### CookBook $$$ @@@ 열공중 1234'\n",
    "\n",
    "re.sub(r'[^가-힣a-zA-Z]', '',string)"
   ],
   "metadata": {
    "collapsed": false
   }
  },
  {
   "cell_type": "code",
   "execution_count": null,
   "outputs": [],
   "source": [
    "inStr, outStr = \"Python\", \"\"\n",
    "strLen = len(inStr)\n",
    "\n",
    "for i in range(0, strLen) :\n",
    "    outStr += inStr[strLen -1 -i]\n",
    "\n",
    "print(\"내용을 거꾸로 출력 --> %s\" % outStr)"
   ],
   "metadata": {
    "collapsed": false
   }
  },
  {
   "cell_type": "code",
   "execution_count": null,
   "outputs": [],
   "source": [
    "def plus(v1,v2,v3):\n",
    "    result = 0\n",
    "    result = v1+v2+v3\n",
    "    return result\n",
    "\n",
    "hap = plus(100,200,300)\n",
    "print(hap)"
   ],
   "metadata": {
    "collapsed": false
   }
  },
  {
   "cell_type": "code",
   "execution_count": null,
   "outputs": [],
   "source": [
    "def f1() :\n",
    "    print(var)\n",
    "\n",
    "def f2() :\n",
    "    var = 10\n",
    "    print(var)\n",
    "\n",
    "var = 100\n",
    "f1()\n",
    "f2()"
   ],
   "metadata": {
    "collapsed": false
   }
  },
  {
   "cell_type": "code",
   "execution_count": null,
   "outputs": [],
   "source": [
    "def addNumber(num):\n",
    "    if num <= 1:\n",
    "        return num\n",
    "    else:\n",
    "        return num + addNumber(num-1)\n",
    "\n",
    "print(addNumber(100))"
   ],
   "metadata": {
    "collapsed": false
   }
  },
  {
   "cell_type": "code",
   "execution_count": null,
   "outputs": [],
   "source": [
    "def myFunc( p1=1, p2=2, p3=3 ):\n",
    "    ret = p1+p2+p3\n",
    "    return ret\n",
    "\n",
    "print(\"매개변수 없이 호출==>\", myFunc())\n",
    "print(\"매개변수가 1개로 호출==>\", myFunc(1))\n",
    "print(\"매개변수가 2개로 호출==>\", myFunc(1,2))\n",
    "print(\"매개변수가 3개로 호출==>\", myFunc(1,2,3))"
   ],
   "metadata": {
    "collapsed": false
   }
  },
  {
   "cell_type": "code",
   "execution_count": null,
   "outputs": [],
   "source": [],
   "metadata": {
    "collapsed": false
   }
  }
 ],
 "metadata": {
  "kernelspec": {
   "display_name": "Python 3",
   "language": "python",
   "name": "python3"
  },
  "language_info": {
   "codemirror_mode": {
    "name": "ipython",
    "version": 2
   },
   "file_extension": ".py",
   "mimetype": "text/x-python",
   "name": "python",
   "nbconvert_exporter": "python",
   "pygments_lexer": "ipython2",
   "version": "2.7.6"
  }
 },
 "nbformat": 4,
 "nbformat_minor": 0
}
