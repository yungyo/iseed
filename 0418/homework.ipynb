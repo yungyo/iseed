{
 "cells": [
  {
   "cell_type": "code",
   "execution_count": null,
   "metadata": {
    "collapsed": true
   },
   "outputs": [],
   "source": [
    "# 2\n",
    "\n",
    "class Car:\n",
    "    color = \"\"\n",
    "    speed = 0\n",
    "\n",
    "    def upSpeed(self, value):\n",
    "        self.speed += value"
   ]
  },
  {
   "cell_type": "code",
   "execution_count": null,
   "outputs": [],
   "source": [
    "# 4\n",
    "\n",
    "class Horse:\n",
    "    speed = 0\n",
    "\n",
    "    def __init__(self):\n",
    "        self.speed = 50"
   ],
   "metadata": {
    "collapsed": false
   }
  },
  {
   "cell_type": "code",
   "execution_count": 1,
   "outputs": [
    {
     "name": "stdout",
     "output_type": "stream",
     "text": [
      "슈퍼 클래스\n",
      "서브 클래스\n"
     ]
    }
   ],
   "source": [
    "# 6\n",
    "\n",
    "class Car:\n",
    "    def method(self):\n",
    "        print(\"슈퍼 클래스\")\n",
    "\n",
    "class Sedan(Car):\n",
    "    def method(self):\n",
    "        print(\"서브 클래스\")\n",
    "\n",
    "myCar = Car()\n",
    "mySedan = Sedan()\n",
    "myCar.method()\n",
    "mySedan.method()\n",
    "\n",
    "# 실행 결과 : 슈퍼 클래스 서브 클래스"
   ],
   "metadata": {
    "collapsed": false
   }
  },
  {
   "cell_type": "code",
   "execution_count": 2,
   "outputs": [],
   "source": [
    "# 7\n",
    "\n",
    "class Car:\n",
    "    speed = 0\n",
    "\n",
    "    def upSpeed(self, value):\n",
    "        self.speed = self.speed + value\n",
    "\n",
    "class RVCar(Car):\n",
    "    seatNum = 0\n",
    "\n",
    "    def getSeatNum(self):\n",
    "        return self.seatNum"
   ],
   "metadata": {
    "collapsed": false
   }
  }
 ],
 "metadata": {
  "kernelspec": {
   "display_name": "Python 3",
   "language": "python",
   "name": "python3"
  },
  "language_info": {
   "codemirror_mode": {
    "name": "ipython",
    "version": 2
   },
   "file_extension": ".py",
   "mimetype": "text/x-python",
   "name": "python",
   "nbconvert_exporter": "python",
   "pygments_lexer": "ipython2",
   "version": "2.7.6"
  }
 },
 "nbformat": 4,
 "nbformat_minor": 0
}
