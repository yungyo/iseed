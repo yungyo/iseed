{
 "cells": [
  {
   "cell_type": "code",
   "execution_count": 2,
   "metadata": {
    "collapsed": true
   },
   "outputs": [
    {
     "name": "stdout",
     "output_type": "stream",
     "text": [
      "합격입니다. ^^\n"
     ]
    }
   ],
   "source": [
    "# 4\n",
    "\n",
    "score = int(input(\"점수를 입력하세요 : \"))\n",
    "\n",
    "if score >= 90 :\n",
    "    print(\"장학생\", end='')\n",
    "elif score >= 60 :\n",
    "    print(\"합격\", end='')\n",
    "else:\n",
    "    print(\"불합격\", end='')\n",
    "\n",
    "print(\"입니다. ^^\")"
   ]
  },
  {
   "cell_type": "code",
   "execution_count": 6,
   "outputs": [
    {
     "name": "stdout",
     "output_type": "stream",
     "text": [
      "짝수\n"
     ]
    }
   ],
   "source": [
    "# 5\n",
    "\n",
    "num=4\n",
    "res='짝수'if num%2 == 0else'홀수'\n",
    "print(res)"
   ],
   "metadata": {
    "collapsed": false
   }
  },
  {
   "cell_type": "code",
   "execution_count": 9,
   "outputs": [
    {
     "name": "stdout",
     "output_type": "stream",
     "text": [
      "[100, 777, 300, 400, 500]\n",
      "[100, [444, 555], 300, 400, 500]\n",
      "[100, 444, 555, 500]\n",
      "[100, 444]\n"
     ]
    }
   ],
   "source": [
    "# 6\n",
    "\n",
    "nn = [100,200,300,400,500]\n",
    "\n",
    "nn[1]=777\n",
    "print(nn)\n",
    "\n",
    "nn[1] = [444,555]\n",
    "print(nn)\n",
    "\n",
    "nn[1:4]=[444,555]\n",
    "print(nn)\n",
    "\n",
    "nn[2:]=[]\n",
    "print(nn)"
   ],
   "metadata": {
    "collapsed": false
   }
  },
  {
   "cell_type": "code",
   "execution_count": 14,
   "outputs": [
    {
     "name": "stdout",
     "output_type": "stream",
     "text": [
      "40722\n"
     ]
    }
   ],
   "source": [
    "# 9\n",
    "\n",
    "num=0\n",
    "for i in range(3333, 10000) :\n",
    "    if i%1234 != 0 :\n",
    "        continue\n",
    "    num+=i\n",
    "    if num>=100000 :\n",
    "        break\n",
    "\n",
    "print(num)"
   ],
   "metadata": {
    "collapsed": false
   }
  },
  {
   "cell_type": "code",
   "execution_count": 21,
   "outputs": [
    {
     "name": "stdout",
     "output_type": "stream",
     "text": [
      "23088\n"
     ]
    }
   ],
   "source": [
    "# 8\n",
    "\n",
    "hap = 0\n",
    "n = 1234\n",
    "while n<4568 :\n",
    "    if n%444 == 0:\n",
    "        hap += n\n",
    "    n += 1\n",
    "\n",
    "print(hap)"
   ],
   "metadata": {
    "collapsed": false
   }
  },
  {
   "cell_type": "code",
   "execution_count": 22,
   "outputs": [],
   "source": [
    "# 14\n",
    "\n",
    "myData = [[n*m for n in range(1,3)] for m in range(2,4)]"
   ],
   "metadata": {
    "collapsed": false
   }
  },
  {
   "cell_type": "code",
   "execution_count": 23,
   "outputs": [
    {
     "data": {
      "text/plain": "[[2, 4], [3, 6]]"
     },
     "execution_count": 23,
     "metadata": {},
     "output_type": "execute_result"
    }
   ],
   "source": [
    "myData"
   ],
   "metadata": {
    "collapsed": false
   }
  },
  {
   "cell_type": "code",
   "execution_count": 24,
   "outputs": [
    {
     "name": "stdout",
     "output_type": "stream",
     "text": [
      "500\n",
      "500\n",
      "400\n",
      "[200, 300, 400]\n",
      "[100]\n",
      "[300, 400]\n",
      "[100, 300, 500]\n",
      "[500, 400, 300, 200, 100]\n",
      "[500, 300, 100]\n"
     ]
    }
   ],
   "source": [
    "# 5\n",
    "\n",
    "nn = [100,200,300,400,500]\n",
    "\n",
    "print(nn[4])\n",
    "print(nn[-1])\n",
    "print(nn[-2])\n",
    "print(nn[1:4])\n",
    "print(nn[0:1])\n",
    "print(nn[2:-1])\n",
    "print(nn[0::2])\n",
    "print(nn[::-1])\n",
    "print(nn[::-2])"
   ],
   "metadata": {
    "collapsed": false
   }
  },
  {
   "cell_type": "code",
   "execution_count": null,
   "outputs": [],
   "source": [],
   "metadata": {
    "collapsed": false
   }
  }
 ],
 "metadata": {
  "kernelspec": {
   "display_name": "Python 3",
   "language": "python",
   "name": "python3"
  },
  "language_info": {
   "codemirror_mode": {
    "name": "ipython",
    "version": 2
   },
   "file_extension": ".py",
   "mimetype": "text/x-python",
   "name": "python",
   "nbconvert_exporter": "python",
   "pygments_lexer": "ipython2",
   "version": "2.7.6"
  }
 },
 "nbformat": 4,
 "nbformat_minor": 0
}
